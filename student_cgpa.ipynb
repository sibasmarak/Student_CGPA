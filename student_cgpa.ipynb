{
  "nbformat": 4,
  "nbformat_minor": 0,
  "metadata": {
    "colab": {
      "name": "student_cgpa.ipynb",
      "provenance": [],
      "collapsed_sections": [],
      "authorship_tag": "ABX9TyNdEvNb8urbYhAmrqyDZTJM",
      "include_colab_link": true
    },
    "kernelspec": {
      "name": "python3",
      "display_name": "Python 3"
    },
    "accelerator": "GPU"
  },
  "cells": [
    {
      "cell_type": "markdown",
      "metadata": {
        "id": "view-in-github",
        "colab_type": "text"
      },
      "source": [
        "<a href=\"https://colab.research.google.com/github/sibasmarak/Student_CGPA/blob/master/student_cgpa.ipynb\" target=\"_parent\"><img src=\"https://colab.research.google.com/assets/colab-badge.svg\" alt=\"Open In Colab\"/></a>"
      ]
    },
    {
      "cell_type": "code",
      "metadata": {
        "id": "QA4kBmzIrai1",
        "colab_type": "code",
        "colab": {}
      },
      "source": [
        "from google.colab import drive"
      ],
      "execution_count": 0,
      "outputs": []
    },
    {
      "cell_type": "code",
      "metadata": {
        "id": "G2vOHWeG4tvT",
        "colab_type": "code",
        "outputId": "2dae3eeb-ac13-407e-a4f7-5fd6d916ed30",
        "colab": {
          "base_uri": "https://localhost:8080/",
          "height": 122
        }
      },
      "source": [
        "drive.mount('/content/drive')\n"
      ],
      "execution_count": 4,
      "outputs": [
        {
          "output_type": "stream",
          "text": [
            "Go to this URL in a browser: https://accounts.google.com/o/oauth2/auth?client_id=947318989803-6bn6qk8qdgf4n4g3pfee6491hc0brc4i.apps.googleusercontent.com&redirect_uri=urn%3aietf%3awg%3aoauth%3a2.0%3aoob&response_type=code&scope=email%20https%3a%2f%2fwww.googleapis.com%2fauth%2fdocs.test%20https%3a%2f%2fwww.googleapis.com%2fauth%2fdrive%20https%3a%2f%2fwww.googleapis.com%2fauth%2fdrive.photos.readonly%20https%3a%2f%2fwww.googleapis.com%2fauth%2fpeopleapi.readonly\n",
            "\n",
            "Enter your authorization code:\n",
            "··········\n",
            "Mounted at /content/drive\n"
          ],
          "name": "stdout"
        }
      ]
    },
    {
      "cell_type": "code",
      "metadata": {
        "id": "8-ywzn2hF9_3",
        "colab_type": "code",
        "colab": {}
      },
      "source": [
        "import pandas as pd\n",
        "import numpy as np\n",
        "fpath_aut_2018_19 = '/content/drive/My Drive/Dataset/result_Autumn_2018-19.csv'\n",
        "df_aut_2018_19 = pd.read_csv(fpath_aut_2018_19, header = None).iloc[:, 0:3]\n",
        "df_aut_2018_19.columns = ['Roll', 'Name', 'CGPA_aut_18_19']\n",
        "df_aut_2018_19.sort_values(by='Roll')\n",
        "# df_aut_2018_19.iloc[0:100,:]"
      ],
      "execution_count": 0,
      "outputs": []
    },
    {
      "cell_type": "code",
      "metadata": {
        "id": "bU_Qikn2vFKq",
        "colab_type": "code",
        "colab": {}
      },
      "source": [
        "fpath_spr_2018_19 = '/content/drive/My Drive/Dataset/SPR_2018_2019_.csv'\n",
        "df_spr_2018_19 = pd.read_csv(fpath_spr_2018_19, header = None).iloc[:, 0:3]\n",
        "df_spr_2018_19.columns = ['Roll', 'Name', 'CGPA_spr_18_19']\n",
        "df_spr_2018_19.sort_values(by='Roll')\n",
        "# df_spr_2018_19.iloc[0:100,:]"
      ],
      "execution_count": 0,
      "outputs": []
    },
    {
      "cell_type": "code",
      "metadata": {
        "id": "yuItJnTp43O_",
        "colab_type": "code",
        "colab": {}
      },
      "source": [
        "fpath_aut_2019_20 = '/content/drive/My Drive/Dataset/aut_final_2019_20.csv'\n",
        "df_aut_2019_20 = pd.read_csv(fpath_aut_2019_20, header = None).iloc[:, 0:3]\n",
        "df_aut_2019_20.columns = ['Name', 'Roll', 'CGPA_aut_19_20']\n",
        "df_aut_2019_20.sort_values(by='Roll')\n",
        "# df_aut_2019_20[df_aut_2019_20['Roll'] == '18MI10005']"
      ],
      "execution_count": 0,
      "outputs": []
    },
    {
      "cell_type": "code",
      "metadata": {
        "id": "AcF4wRsvzv2P",
        "colab_type": "code",
        "colab": {}
      },
      "source": [
        "def parse_cgpa(s):\n",
        "  try:\n",
        "    l = str(s).split('-')\n",
        "    return l[0]\n",
        "  except:\n",
        "    return '0.00'"
      ],
      "execution_count": 0,
      "outputs": []
    },
    {
      "cell_type": "code",
      "metadata": {
        "id": "NPn3D8Ro0cB9",
        "colab_type": "code",
        "colab": {}
      },
      "source": [
        "df1 = df_aut_2018_19\n",
        "df2 = df_spr_2018_19\n",
        "df3 = df_aut_2019_20\n",
        "df1['CGPA_aut_18_19'] = df1['CGPA_aut_18_19'].apply(parse_cgpa)\n",
        "df2['CGPA_spr_18_19'] = df2['CGPA_spr_18_19'].apply(parse_cgpa)\n",
        "df3['CGPA_aut_19_20'] = df3['CGPA_aut_19_20'].apply(parse_cgpa)"
      ],
      "execution_count": 0,
      "outputs": []
    },
    {
      "cell_type": "code",
      "metadata": {
        "id": "hN_W7kjo5MaU",
        "colab_type": "code",
        "colab": {}
      },
      "source": [
        "df1.drop(columns='Name', axis=1, inplace=True)\n",
        "df2.drop(columns='Name',axis=1, inplace=True)\n",
        "df3.drop(columns='Name', axis=1, inplace=True)\n",
        "print(df1)\n",
        "print(df2)\n",
        "print(df3)"
      ],
      "execution_count": 0,
      "outputs": []
    },
    {
      "cell_type": "code",
      "metadata": {
        "id": "GkT8mEQwRO4D",
        "colab_type": "code",
        "colab": {}
      },
      "source": [
        "fpath_branch = '/content/drive/My Drive/Dataset/branch_change.csv'\n",
        "df_branch = pd.read_csv(fpath_branch, header=1)\n",
        "old_roll = list(df_branch['Old Rollno'])\n",
        "new_roll = list(df_branch['New Rollno'])\n",
        "roll_dict = dict(zip(new_roll, old_roll))\n",
        "\n",
        "\n",
        "def change_roll(roll):\n",
        "  r = str(roll)\n",
        "  if r in new_roll:\n",
        "    return roll_dict[r]\n",
        "  return roll\n",
        "x = df3['Roll']\n",
        "x = x.apply(change_roll)\n",
        "df3['Roll'] = x\n",
        "df3[df3['Roll'] == '18ME10061']"
      ],
      "execution_count": 0,
      "outputs": []
    },
    {
      "cell_type": "code",
      "metadata": {
        "id": "IVNXE3KJ1tcC",
        "colab_type": "code",
        "colab": {}
      },
      "source": [
        "merge_df = df1.merge(df2, how='inner', on='Roll')\n",
        "m_ = merge_df\n",
        "m_['CGPA_aut_18_19'] = m_['CGPA_aut_18_19'].astype('float')\n",
        "m_['CGPA_spr_18_19'] = m_['CGPA_spr_18_19'].astype('float')\n",
        "\n",
        "\n",
        "mdf = m_.merge(df3, how='inner', on='Roll').drop(index= 707)\n",
        "m = mdf.sort_values('CGPA_aut_19_20', ascending= False)\n",
        "l = m.drop(index = [682, 756, 213, 1274, 561, 751, 106])\n",
        "m = l\n",
        "\n",
        "m.sort_values('Roll', inplace=True)\n",
        "m\n",
        "\n",
        "# m is the final data that is to trained with !"
      ],
      "execution_count": 0,
      "outputs": []
    },
    {
      "cell_type": "code",
      "metadata": {
        "id": "RuydcppuWsgJ",
        "colab_type": "code",
        "colab": {}
      },
      "source": [
        "m['CGPA_aut_19_20'] = m['CGPA_aut_19_20'].astype('float')\n",
        "m.dtypes"
      ],
      "execution_count": 0,
      "outputs": []
    },
    {
      "cell_type": "markdown",
      "metadata": {
        "id": "oYnUF3sWfG9a",
        "colab_type": "text"
      },
      "source": [
        "## ```From here start the Model and the training```"
      ]
    },
    {
      "cell_type": "code",
      "metadata": {
        "id": "RkWaHAkvfFpU",
        "colab_type": "code",
        "colab": {
          "base_uri": "https://localhost:8080/",
          "height": 34
        },
        "outputId": "31a3ad5d-1bae-4a16-f3d5-7d902496a5a0"
      },
      "source": [
        "X = m.iloc[:, 1:3].values \n",
        "y = m.iloc[:, 3].values \n",
        "\n",
        "# Splitting the dataset into the Training set and Test set\n",
        "from sklearn.model_selection import train_test_split\n",
        "X_train, X_test, y_train, y_test = train_test_split(X, y, test_size = 0.1, random_state = 0)\n",
        "\n",
        "# # Fitting SVR to the dataset\n",
        "# from sklearn.svm import SVR\n",
        "# regressor = SVR(kernel = 'rbf')\n",
        "# regressor.fit(X, y)\n",
        "\n",
        "# y_pred = regressor.predict([[9.27, 10.]])\n",
        "# y_pred\n",
        "\n",
        "# # Fitting Polynomial Regression to the dataset\n",
        "# from sklearn.linear_model import LinearRegression\n",
        "# from sklearn.preprocessing import PolynomialFeatures\n",
        "# poly_reg = PolynomialFeatures(degree = 4)\n",
        "# X_poly = poly_reg.fit_transform(X)\n",
        "# poly_reg.fit(X_poly, y)\n",
        "# lin_reg_2 = LinearRegression()\n",
        "# lin_reg_2.fit(X_poly, y)\n",
        "\n",
        "# # Predicting a new result with Polynomial Regression\n",
        "# lin_reg_2.predict(poly_reg.fit_transform([[9.82, 10.]]))"
      ],
      "execution_count": 205,
      "outputs": [
        {
          "output_type": "execute_result",
          "data": {
            "text/plain": [
              "array([9.79578386])"
            ]
          },
          "metadata": {
            "tags": []
          },
          "execution_count": 205
        }
      ]
    }
  ]
}